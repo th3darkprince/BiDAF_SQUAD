{
 "cells": [
  {
   "cell_type": "markdown",
   "metadata": {
    "colab_type": "text",
    "id": "1h6HNGk8QNx6"
   },
   "source": [
    "## Importing Libraries"
   ]
  },
  {
   "cell_type": "code",
   "execution_count": null,
   "metadata": {
    "colab": {
     "base_uri": "https://localhost:8080/",
     "height": 34
    },
    "colab_type": "code",
    "id": "1wbZUVgaQNx7",
    "outputId": "e5d57ffb-0fdb-4312-96c3-d47c13cbc912"
   },
   "outputs": [
    {
     "name": "stderr",
     "output_type": "stream",
     "text": [
      "Using TensorFlow backend.\n"
     ]
    }
   ],
   "source": [
    "import tensorflow as tf                                             #to import the model\n",
    "import pandas as pd                                                 #to import test data\n",
    "import pickle                                                       #to load tokenizers\n",
    "from keras.preprocessing.sequence import pad_sequences              #to pad sequences to max length"
   ]
  },
  {
   "cell_type": "code",
   "execution_count": null,
   "metadata": {
    "colab": {
     "base_uri": "https://localhost:8080/",
     "height": 122
    },
    "colab_type": "code",
    "id": "WF9AOzxyRCtd",
    "outputId": "3e0108b6-c303-4ee4-8bc5-f474157058c8"
   },
   "outputs": [],
   "source": [
    "from google.colab import drive\n",
    "drive.mount('/content/drive')"
   ]
  },
  {
   "cell_type": "markdown",
   "metadata": {
    "colab_type": "text",
    "id": "wbTfQz9iQNx-"
   },
   "source": [
    "## Creating Model Class"
   ]
  },
  {
   "cell_type": "code",
   "execution_count": null,
   "metadata": {
    "colab": {},
    "colab_type": "code",
    "id": "FtxkrD0Gsd91"
   },
   "outputs": [],
   "source": [
    "class bidaf():\n",
    "  def __init__(self):\n",
    "        self.model = tf.keras.models.load_model(\"/content/drive/My Drive/Colab Notebooks/old_model/final_model/\")\n",
    "        with open('/content/drive/My Drive/Colab Notebooks/old_model/tokenizer.pickle', 'rb') as handle:\n",
    "            self.tokenizer = pickle.load(handle)\n",
    "        \n",
    "            \n",
    "  def __get_tokens(self):\n",
    "        self.question = self.tokenizer.texts_to_sequences([self.question])\n",
    "        self.context = self.tokenizer.texts_to_sequences([self.context])\n",
    "                \n",
    "  def __get_padded_sequences(self):\n",
    "        self.question = pad_sequences(self.question, maxlen = 22, padding = 'post')\n",
    "        self.context = pad_sequences(self.context, maxlen = 267, padding = 'post')\n",
    "        \n",
    "                        \n",
    "  def predict(self, question, context):\n",
    "        self.question = question\n",
    "        self.context = context\n",
    "        self.__get_tokens()\n",
    "        self.__get_padded_sequences()\n",
    "        start, end = self.model.predict([self.context, self.question])\n",
    "        \n",
    "        for i in range(start.argmax(), end.argmax()+1):\n",
    "          print(self.tokenizer.index_word[self.context[0][i]], end=' ')"
   ]
  },
  {
   "cell_type": "markdown",
   "metadata": {
    "colab_type": "text",
    "id": "0kL5T2zmQNyB"
   },
   "source": [
    "## Loading the Dataset to obtain test data"
   ]
  },
  {
   "cell_type": "code",
   "execution_count": null,
   "metadata": {
    "colab": {},
    "colab_type": "code",
    "id": "34dVAvVfQNyB"
   },
   "outputs": [],
   "source": [
    "df_answerable = pd.read_pickle(\"/content/drive/My Drive/Colab Notebooks/dataset/df_test.pkl\")"
   ]
  },
  {
   "cell_type": "code",
   "execution_count": null,
   "metadata": {
    "colab": {},
    "colab_type": "code",
    "id": "erQPo2ZWRrwG"
   },
   "outputs": [],
   "source": [
    "# input question and context as strings. Here we take them from the dataset\n",
    "question = df_answerable['question'][80184]\n",
    "context = df_answerable['context'][80184]"
   ]
  },
  {
   "cell_type": "code",
   "execution_count": null,
   "metadata": {
    "colab": {
     "base_uri": "https://localhost:8080/",
     "height": 34
    },
    "colab_type": "code",
    "id": "eIVNCXqI3V2-",
    "outputId": "b4e5df77-0689-4863-86a5-d940107d3ab9"
   },
   "outputs": [
    {
     "name": "stdout",
     "output_type": "stream",
     "text": [
      "WARNING:tensorflow:No training configuration found in save file, so the model was *not* compiled. Compile it manually.\n"
     ]
    }
   ],
   "source": [
    "model = bidaf()"
   ]
  },
  {
   "cell_type": "markdown",
   "metadata": {
    "colab_type": "text",
    "id": "XwAv_HTVDctq"
   },
   "source": [
    "## Prediction"
   ]
  },
  {
   "cell_type": "code",
   "execution_count": null,
   "metadata": {
    "colab": {
     "base_uri": "https://localhost:8080/",
     "height": 71
    },
    "colab_type": "code",
    "id": "bR9air9BDmuY",
    "outputId": "3ddcb929-7bfa-4a8b-c294-4f6770b4716d"
   },
   "outputs": [
    {
     "name": "stdout",
     "output_type": "stream",
     "text": [
      "What 1963 film compared Nasser to Saladin?\n",
      "In 1963, Egyptian director Youssef Chahine produced the film El Nasser Salah El Dine (\"Saladin The Victorious\"), which intentionally drew parallels between Saladin, considered a hero in the Arab world, and Nasser and his pan-Arabist policies. Nasser is played by Ahmed Zaki in Mohamed Fadel's 1996 Nasser 56. The film set the Egyptian box office record at the time, and focused on Nasser during the Suez Crisis. It is also considered a milestone in Egyptian and Arab cinema as the first film to dramatize the role of a modern-day Arab leader. Together with the 1999 Syrian biopic Gamal Abdel Nasser, the films marked the first biographical movies about contemporary public figures produced in the Arab world.\n"
     ]
    }
   ],
   "source": [
    "print(question)\n",
    "print(context)"
   ]
  },
  {
   "cell_type": "code",
   "execution_count": null,
   "metadata": {
    "colab": {
     "base_uri": "https://localhost:8080/",
     "height": 34
    },
    "colab_type": "code",
    "id": "vZ--EgybESjJ",
    "outputId": "2a2d63f2-b7b6-4993-e34e-441d83e87224"
   },
   "outputs": [
    {
     "name": "stdout",
     "output_type": "stream",
     "text": [
      "nasser salah el dine saladin "
     ]
    }
   ],
   "source": [
    "model.predict(question, context)"
   ]
  }
 ],
 "metadata": {
  "colab": {
   "collapsed_sections": [],
   "name": "final_notebook_old.ipynb",
   "provenance": [],
   "toc_visible": true
  },
  "kernelspec": {
   "display_name": "Python 3",
   "language": "python",
   "name": "python3"
  },
  "language_info": {
   "codemirror_mode": {
    "name": "ipython",
    "version": 3
   },
   "file_extension": ".py",
   "mimetype": "text/x-python",
   "name": "python",
   "nbconvert_exporter": "python",
   "pygments_lexer": "ipython3",
   "version": "3.6.10"
  }
 },
 "nbformat": 4,
 "nbformat_minor": 1
}
